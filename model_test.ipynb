{
 "cells": [
  {
   "cell_type": "markdown",
   "id": "38c7ad65-eb10-416f-9a27-2e414ce9ab2c",
   "metadata": {},
   "source": [
    "# Model Testing on Test Dataset\n",
    "\n",
    "A sample of the \"Flight_Test\" data to be tested against the candidate model. "
   ]
  },
  {
   "cell_type": "code",
   "execution_count": 1,
   "id": "3477ca47-b875-48d8-a109-bcccd44e8f98",
   "metadata": {},
   "outputs": [],
   "source": [
    "import pandas as pd\n",
    "import matplotlib.pyplot as plt\n",
    "import plotly.graph_objects as go\n",
    "import sklearn as sk\n",
    "import numpy as np\n",
    "import seaborn as sns\n",
    "import statsmodels.api as sm"
   ]
  },
  {
   "cell_type": "markdown",
   "id": "b0aa8dc9-33be-4444-95e3-3b6fe21be1e6",
   "metadata": {},
   "source": [
    "# Data Import"
   ]
  },
  {
   "cell_type": "code",
   "execution_count": 2,
   "id": "983da2db-7877-409d-b24f-ae968682e519",
   "metadata": {},
   "outputs": [],
   "source": [
    "flight_df = pd.read_csv('flight_test_100k.csv')"
   ]
  },
  {
   "cell_type": "markdown",
   "id": "da4f892b-dadd-42e2-aed4-400332a1a8c7",
   "metadata": {},
   "source": [
    "# Data Cleaning and Transformation"
   ]
  },
  {
   "cell_type": "code",
   "execution_count": 3,
   "id": "a5203862-b318-4924-8e97-5bad1e31227a",
   "metadata": {},
   "outputs": [],
   "source": [
    "flight_df = flight_df.drop(['branded_code_share', 'mkt_carrier','op_unique_carrier', 'tail_num', 'op_carrier_fl_num', 'dup', 'flights', 'dest_city_name', 'origin_city_name'], axis =1)\n"
   ]
  },
  {
   "cell_type": "code",
   "execution_count": 4,
   "id": "64fd3780-8174-4221-a6a4-3fcdabc2f81e",
   "metadata": {},
   "outputs": [],
   "source": [
    "flight_df['crs_dep_time'] = flight_df['crs_dep_time'].round(-2)/100\n",
    "flight_df['crs_arr_time'] = flight_df['crs_arr_time'].round(-2)/100\n",
    "\n",
    "# format date\n",
    "flight_df['fl_date'] = pd.DatetimeIndex(flight_df['fl_date']).date\n",
    "# add year column\n",
    "flight_df['fl_year'] = pd.DatetimeIndex(flight_df['fl_date']).year\n",
    "# add month column\n",
    "flight_df['fl_month'] = pd.DatetimeIndex(flight_df['fl_date']).month\n",
    "# add day column\n",
    "flight_df['fl_day'] = pd.DatetimeIndex(flight_df['fl_date']).day"
   ]
  },
  {
   "cell_type": "code",
   "execution_count": 5,
   "id": "3ddedaf8-9b5d-4443-95cb-043fe1fd1254",
   "metadata": {},
   "outputs": [],
   "source": [
    "# dummies for carrier\n",
    "carrier_dummies = pd.get_dummies(flight_df['mkt_unique_carrier'])\n",
    "flight_df = pd.concat([flight_df, carrier_dummies], axis=1)"
   ]
  },
  {
   "cell_type": "code",
   "execution_count": 6,
   "id": "7c190d3a-8721-483d-9a7c-9b0a6e717921",
   "metadata": {},
   "outputs": [],
   "source": [
    "# create route id in flight_df\n",
    "flight_df[['origin_airport_id', 'dest_airport_id', 'fl_month']] =  flight_df[['origin_airport_id', 'dest_airport_id', 'fl_month']].astype(str)\n",
    "flight_df['route_id'] = flight_df['origin_airport_id'] + flight_df['dest_airport_id']"
   ]
  },
  {
   "cell_type": "code",
   "execution_count": 7,
   "id": "5c18a95d-2ed2-4465-b765-98ca4ddfad85",
   "metadata": {},
   "outputs": [],
   "source": [
    "# pass in passenger stats\n",
    "pass_route_feats = pd.read_csv('pass_route_features.csv')\n",
    "pass_route_feats['route_id'] = pass_route_feats['route_id'].astype(str)\n",
    "flight_df = flight_df.merge(pass_route_feats, on='route_id', how='left')"
   ]
  },
  {
   "cell_type": "code",
   "execution_count": 8,
   "id": "15fcb2ee-d199-42ad-ae98-ceb0be4306aa",
   "metadata": {},
   "outputs": [],
   "source": [
    "# create carrier route id\n",
    "flight_df['carrier_route_id'] = flight_df['origin_airport_id'] + flight_df['dest_airport_id'] + flight_df['mkt_unique_carrier']"
   ]
  },
  {
   "cell_type": "code",
   "execution_count": 9,
   "id": "3dea94d8-529a-4699-bfb3-9ab0bbff62c3",
   "metadata": {},
   "outputs": [],
   "source": [
    "carrier_route_delay_feats = pd.read_csv('carrier_route_delay_feats.csv')"
   ]
  },
  {
   "cell_type": "code",
   "execution_count": 10,
   "id": "acfbeae0-af5c-4bef-8638-e68d8084c30d",
   "metadata": {},
   "outputs": [],
   "source": [
    "flight_df = flight_df.merge(carrier_route_delay_feats, on='carrier_route_id', how='left')\n",
    "flight_df = flight_df.rename(columns={'arr_delay_x': 'std_carrier_route_delay', 'arr_delay_y': 'avg_carrier_route_delay'})"
   ]
  },
  {
   "cell_type": "code",
   "execution_count": 11,
   "id": "3db7029a-1c76-4548-8bd9-4acf49dcab49",
   "metadata": {},
   "outputs": [],
   "source": [
    "dep_delay_airp_month = pd.read_csv('dep_delay_airp_month.csv')"
   ]
  },
  {
   "cell_type": "code",
   "execution_count": 12,
   "id": "dc2524bd-03d0-4426-85b2-a5c23c68d04d",
   "metadata": {},
   "outputs": [],
   "source": [
    "dep_delay_airp_month['origin_air_month'] = dep_delay_airp_month['origin_air_month'].astype(str)"
   ]
  },
  {
   "cell_type": "code",
   "execution_count": 13,
   "id": "7d565f82-8bce-4c44-8ce4-ea6c129e16fb",
   "metadata": {},
   "outputs": [],
   "source": [
    "flight_df['origin_air_month'] = flight_df['origin_airport_id'] + flight_df['fl_month']\n",
    "flight_df = flight_df.merge(dep_delay_airp_month, on='origin_air_month', how='left')"
   ]
  },
  {
   "cell_type": "code",
   "execution_count": 14,
   "id": "bb9c3426-a9df-4abc-b53f-6ba335e2f999",
   "metadata": {},
   "outputs": [],
   "source": [
    "flight_df = flight_df.rename(columns={'dep_delay_x': 'std_dep_delay_airp_month', 'dep_delay_y': 'avg_dep_delay_airp_month'})"
   ]
  },
  {
   "cell_type": "code",
   "execution_count": 15,
   "id": "b956c904-2f53-4132-9d36-b1029eb8c796",
   "metadata": {},
   "outputs": [],
   "source": [
    "flight_df['route_id'] =  flight_df['route_id'].astype(float)\n",
    "flight_df['fl_month'] =  flight_df['fl_month'].astype(float)\n",
    "flight_df = flight_df.dropna()"
   ]
  },
  {
   "cell_type": "code",
   "execution_count": 16,
   "id": "74732494-57da-4fd4-b48a-8f1b56a15324",
   "metadata": {},
   "outputs": [],
   "source": [
    "from sklearn.preprocessing import StandardScaler\n",
    "flight_df_std_trans = flight_df\n",
    "cols = ['std_carrier_route_delay', 'avg_carrier_route_delay', 'std_dep_delay_airp_month', 'avg_dep_delay_airp_month', 'origin_airport_id', 'dest_airport_id', 'crs_dep_time', 'crs_arr_time', 'crs_elapsed_time', 'distance', 'fl_year', 'fl_month', 'fl_day', 'mail_ratio', 'capacity_ratio', 'freight_ratio', 'mail_per_flight', 'freight_per_flight', 'pass_per_flight']\n",
    "cols_scaled = ['std_carrier_route_delay', 'avg_carrier_route_delay', 'std_dep_delay_airp_month', 'avg_dep_delay_airp_month', 'origin_airport_id', 'dest_airport_id', 'crs_dep_time', 'crs_arr_time', 'crs_elapsed_time', 'distance', 'fl_year', 'fl_month', 'fl_day', 'mail_ratio', 'capacity_ratio', 'freight_ratio', 'mail_per_flight', 'freight_per_flight', 'pass_per_flight']\n",
    "scaler = StandardScaler()\n",
    "flight_df_std_trans[cols_scaled] = scaler.fit_transform(flight_df_std_trans[cols])"
   ]
  },
  {
   "cell_type": "code",
   "execution_count": 17,
   "id": "5120824d-5be0-4723-9939-d3ad49f4472a",
   "metadata": {},
   "outputs": [],
   "source": [
    "model_submission = flight_df_std_trans[['fl_date', 'mkt_unique_carrier', 'mkt_carrier_fl_num', 'origin', 'dest']]\n",
    "flight_df_std_trans = flight_df_std_trans.drop(['origin', 'dest', 'mkt_carrier_fl_num', 'route_id', 'origin_airport_id', 'dest_airport_id', 'carrier_route_id', 'origin_air_month', 'fl_date', 'mkt_unique_carrier', 'origin_air_month'], axis =1)"
   ]
  },
  {
   "cell_type": "markdown",
   "id": "907b2267-f031-45e8-974e-11678dce8fd8",
   "metadata": {},
   "source": [
    "# Import Model"
   ]
  },
  {
   "cell_type": "code",
   "execution_count": 18,
   "id": "fa92d383-d1c1-42f8-ad02-b1132bd75175",
   "metadata": {},
   "outputs": [],
   "source": [
    "import pickle\n",
    "loaded_model = pickle.load(open('finalized_lin_reg_model.sav', 'rb'))"
   ]
  },
  {
   "cell_type": "code",
   "execution_count": 19,
   "id": "70c3cb24-5225-4fbc-b4b7-da3b285b3e55",
   "metadata": {},
   "outputs": [],
   "source": [
    "X = flight_df_std_trans\n",
    "X = sm.add_constant(X)"
   ]
  },
  {
   "cell_type": "markdown",
   "id": "5dce400a-c6d3-49d4-b80c-3bf0663b2b00",
   "metadata": {},
   "source": [
    "# Results"
   ]
  },
  {
   "cell_type": "code",
   "execution_count": 20,
   "id": "768019b4-46ba-4ab1-a1fe-df3b590a1e0a",
   "metadata": {},
   "outputs": [],
   "source": [
    "result = loaded_model.predict(X)"
   ]
  },
  {
   "cell_type": "code",
   "execution_count": 21,
   "id": "29f689d8-ccd4-4e70-9f4b-cc2c723c0804",
   "metadata": {},
   "outputs": [],
   "source": [
    "model_submission = pd.concat([model_submission, result], axis=1)\n",
    "model_submission = model_submission.rename(columns={0: 'predicted_delay', 'mkt_unique_carrier': 'mkt_carrier'})"
   ]
  },
  {
   "cell_type": "code",
   "execution_count": 22,
   "id": "5021f77a-1b27-4424-8928-0660a0cef351",
   "metadata": {},
   "outputs": [
    {
     "data": {
      "text/html": [
       "<div>\n",
       "<style scoped>\n",
       "    .dataframe tbody tr th:only-of-type {\n",
       "        vertical-align: middle;\n",
       "    }\n",
       "\n",
       "    .dataframe tbody tr th {\n",
       "        vertical-align: top;\n",
       "    }\n",
       "\n",
       "    .dataframe thead th {\n",
       "        text-align: right;\n",
       "    }\n",
       "</style>\n",
       "<table border=\"1\" class=\"dataframe\">\n",
       "  <thead>\n",
       "    <tr style=\"text-align: right;\">\n",
       "      <th></th>\n",
       "      <th>fl_date</th>\n",
       "      <th>mkt_carrier</th>\n",
       "      <th>mkt_carrier_fl_num</th>\n",
       "      <th>origin</th>\n",
       "      <th>dest</th>\n",
       "      <th>predicted_delay</th>\n",
       "    </tr>\n",
       "  </thead>\n",
       "  <tbody>\n",
       "    <tr>\n",
       "      <th>0</th>\n",
       "      <td>2020-01-22</td>\n",
       "      <td>AS</td>\n",
       "      <td>1768</td>\n",
       "      <td>PDX</td>\n",
       "      <td>LAX</td>\n",
       "      <td>4.340817</td>\n",
       "    </tr>\n",
       "    <tr>\n",
       "      <th>1</th>\n",
       "      <td>2020-01-15</td>\n",
       "      <td>DL</td>\n",
       "      <td>5377</td>\n",
       "      <td>JFK</td>\n",
       "      <td>DFW</td>\n",
       "      <td>4.414690</td>\n",
       "    </tr>\n",
       "    <tr>\n",
       "      <th>2</th>\n",
       "      <td>2020-01-09</td>\n",
       "      <td>AA</td>\n",
       "      <td>3534</td>\n",
       "      <td>CMH</td>\n",
       "      <td>ORD</td>\n",
       "      <td>4.525790</td>\n",
       "    </tr>\n",
       "    <tr>\n",
       "      <th>3</th>\n",
       "      <td>2020-01-15</td>\n",
       "      <td>AA</td>\n",
       "      <td>2148</td>\n",
       "      <td>DCA</td>\n",
       "      <td>BOS</td>\n",
       "      <td>4.390692</td>\n",
       "    </tr>\n",
       "    <tr>\n",
       "      <th>4</th>\n",
       "      <td>2020-01-04</td>\n",
       "      <td>B6</td>\n",
       "      <td>914</td>\n",
       "      <td>FLL</td>\n",
       "      <td>HPN</td>\n",
       "      <td>4.555356</td>\n",
       "    </tr>\n",
       "    <tr>\n",
       "      <th>...</th>\n",
       "      <td>...</td>\n",
       "      <td>...</td>\n",
       "      <td>...</td>\n",
       "      <td>...</td>\n",
       "      <td>...</td>\n",
       "      <td>...</td>\n",
       "    </tr>\n",
       "    <tr>\n",
       "      <th>70734</th>\n",
       "      <td>2020-01-15</td>\n",
       "      <td>DL</td>\n",
       "      <td>1729</td>\n",
       "      <td>LAX</td>\n",
       "      <td>LAS</td>\n",
       "      <td>4.439754</td>\n",
       "    </tr>\n",
       "    <tr>\n",
       "      <th>70735</th>\n",
       "      <td>2020-01-29</td>\n",
       "      <td>WN</td>\n",
       "      <td>5769</td>\n",
       "      <td>PHX</td>\n",
       "      <td>SLC</td>\n",
       "      <td>4.569683</td>\n",
       "    </tr>\n",
       "    <tr>\n",
       "      <th>70736</th>\n",
       "      <td>2020-01-21</td>\n",
       "      <td>UA</td>\n",
       "      <td>1982</td>\n",
       "      <td>DEN</td>\n",
       "      <td>SAN</td>\n",
       "      <td>4.530844</td>\n",
       "    </tr>\n",
       "    <tr>\n",
       "      <th>70737</th>\n",
       "      <td>2020-01-17</td>\n",
       "      <td>DL</td>\n",
       "      <td>2923</td>\n",
       "      <td>DTW</td>\n",
       "      <td>CLT</td>\n",
       "      <td>4.442441</td>\n",
       "    </tr>\n",
       "    <tr>\n",
       "      <th>70738</th>\n",
       "      <td>2020-01-08</td>\n",
       "      <td>DL</td>\n",
       "      <td>3985</td>\n",
       "      <td>MSP</td>\n",
       "      <td>FSD</td>\n",
       "      <td>4.398929</td>\n",
       "    </tr>\n",
       "  </tbody>\n",
       "</table>\n",
       "<p>70739 rows × 6 columns</p>\n",
       "</div>"
      ],
      "text/plain": [
       "          fl_date mkt_carrier  mkt_carrier_fl_num origin dest  predicted_delay\n",
       "0      2020-01-22          AS                1768    PDX  LAX         4.340817\n",
       "1      2020-01-15          DL                5377    JFK  DFW         4.414690\n",
       "2      2020-01-09          AA                3534    CMH  ORD         4.525790\n",
       "3      2020-01-15          AA                2148    DCA  BOS         4.390692\n",
       "4      2020-01-04          B6                 914    FLL  HPN         4.555356\n",
       "...           ...         ...                 ...    ...  ...              ...\n",
       "70734  2020-01-15          DL                1729    LAX  LAS         4.439754\n",
       "70735  2020-01-29          WN                5769    PHX  SLC         4.569683\n",
       "70736  2020-01-21          UA                1982    DEN  SAN         4.530844\n",
       "70737  2020-01-17          DL                2923    DTW  CLT         4.442441\n",
       "70738  2020-01-08          DL                3985    MSP  FSD         4.398929\n",
       "\n",
       "[70739 rows x 6 columns]"
      ]
     },
     "execution_count": 22,
     "metadata": {},
     "output_type": "execute_result"
    }
   ],
   "source": [
    "model_submission.reset_index(inplace=True)\n",
    "model_submission = model_submission.drop(['index'], axis=1)\n",
    "model_submission"
   ]
  },
  {
   "cell_type": "code",
   "execution_count": 23,
   "id": "3bd35d40-3c78-4019-ad56-a34fd1a90328",
   "metadata": {},
   "outputs": [
    {
     "data": {
      "image/png": "[encoded data removed]",
      "text/plain": [
       "<Figure size 360x360 with 1 Axes>"
      ]
     },
     "metadata": {},
     "output_type": "display_data"
    }
   ],
   "source": [
    "sns.set_theme(style=\"darkgrid\")\n",
    "sns.displot(model_submission, x='predicted_delay',kind='kde')\n",
    "plt.title(\"delay_prediction\", size=15)\n",
    "plt.show()"
   ]
  },
  {
   "cell_type": "markdown",
   "id": "68f589c3-3e29-4a5f-a535-153484f46ef7",
   "metadata": {},
   "source": [
    "# Export"
   ]
  },
  {
   "cell_type": "code",
   "execution_count": 24,
   "id": "d655a3a2-847c-4110-88ce-3df1ad7ddaf5",
   "metadata": {},
   "outputs": [],
   "source": [
    "from pathlib import Path \n",
    "filepath = Path('./flight_delay_pred_model_submission.csv')  \n",
    "model_submission.to_csv(filepath)"
   ]
  }
 ],
 "metadata": {
  "kernelspec": {
   "display_name": "Python 3 (ipykernel)",
   "language": "python",
   "name": "python3"
  },
  "language_info": {
   "codemirror_mode": {
    "name": "ipython",
    "version": 3
   },
   "file_extension": ".py",
   "mimetype": "text/x-python",
   "name": "python",
   "nbconvert_exporter": "python",
   "pygments_lexer": "ipython3",
   "version": "3.9.12"
  }
 },
 "nbformat": 4,
 "nbformat_minor": 5
}
