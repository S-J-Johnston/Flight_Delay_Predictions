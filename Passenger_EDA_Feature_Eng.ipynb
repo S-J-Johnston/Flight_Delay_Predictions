{
 "cells": [
  {
   "cell_type": "markdown",
   "id": "9f4c26ca-cbe2-4c65-a672-f9be314e9538",
   "metadata": {},
   "source": [
    "The following analysis is completed on a passenger data table.\n",
    "From what we can deduce the passenger table consists of monthly summed data for airline, route and aircraft"
   ]
  },
  {
   "cell_type": "code",
   "execution_count": 1,
   "id": "eb19ad56-a8e1-44fc-bc6f-d5f846fcd91e",
   "metadata": {},
   "outputs": [],
   "source": [
    "import pandas as pd\n",
    "import matplotlib.pyplot as plt\n",
    "import plotly.graph_objects as go\n",
    "import sklearn as sk\n",
    "import numpy as np\n",
    "import seaborn as sns"
   ]
  },
  {
   "cell_type": "markdown",
   "id": "71a85279-9583-4999-b1e8-dfd483186c70",
   "metadata": {},
   "source": [
    "### Import Data"
   ]
  },
  {
   "cell_type": "code",
   "execution_count": 2,
   "id": "215516d4-eb84-47a9-a96b-245b479a783c",
   "metadata": {},
   "outputs": [],
   "source": [
    "pass_df = pd.read_csv('passenger_sample_50k.csv')"
   ]
  },
  {
   "cell_type": "markdown",
   "id": "c19981d8-f9ba-4994-b51e-56c4ac376c54",
   "metadata": {},
   "source": [
    "### Sample data based on Flight Table Carriers"
   ]
  },
  {
   "cell_type": "code",
   "execution_count": 3,
   "id": "3e049dfd-ea46-456c-a328-28bf2440f54e",
   "metadata": {},
   "outputs": [],
   "source": [
    "array = ['AA','AS','B6','DL','F9','G4','HA','NK','UA','VX','WN'] # Flight carriers from Flights Table\n",
    "pass_df = pass_df.loc[pass_df['unique_carrier'].isin(array)] # passenger table filtered by flights table carriers"
   ]
  },
  {
   "cell_type": "markdown",
   "id": "0837f1cd-d140-45f2-8eab-cfcce6eeface",
   "metadata": {},
   "source": [
    "Import route keys from CSV. Route keys generated from SJ_Flights_EDA_Baseline_Modelling.ipynb. Covers all routes in the sample db."
   ]
  },
  {
   "cell_type": "code",
   "execution_count": 4,
   "id": "9f1f2cde-a13d-4f1d-ad26-c29ceb22dd13",
   "metadata": {},
   "outputs": [],
   "source": [
    "route_keys = pd.read_csv('route_keys.csv')\n",
    "route_keys = route_keys.drop(['Unnamed: 0'], axis =1)\n",
    "array_route_keys = route_keys['0'].values.tolist()\n",
    "array_route_keys = [str(x) for x in array_route_keys]"
   ]
  },
  {
   "cell_type": "markdown",
   "id": "3305a578-72b1-4f23-8c24-c34cc9979846",
   "metadata": {},
   "source": [
    "Create route ID for feature grouping aggregations"
   ]
  },
  {
   "cell_type": "code",
   "execution_count": 5,
   "id": "5ee012f3-381f-485d-a2a9-52f0a874e7ec",
   "metadata": {},
   "outputs": [],
   "source": [
    "pass_df[['origin_airport_id', 'dest_airport_id']] =  pass_df[['origin_airport_id', 'dest_airport_id']].astype(str)\n",
    "pass_df['route_id'] = pass_df['origin_airport_id'] + pass_df['dest_airport_id']"
   ]
  },
  {
   "cell_type": "code",
   "execution_count": 6,
   "id": "786b4031-3f51-4a76-b558-685e47f2db8d",
   "metadata": {},
   "outputs": [
    {
     "data": {
      "text/html": [
       "<div>\n",
       "<style scoped>\n",
       "    .dataframe tbody tr th:only-of-type {\n",
       "        vertical-align: middle;\n",
       "    }\n",
       "\n",
       "    .dataframe tbody tr th {\n",
       "        vertical-align: top;\n",
       "    }\n",
       "\n",
       "    .dataframe thead th {\n",
       "        text-align: right;\n",
       "    }\n",
       "</style>\n",
       "<table border=\"1\" class=\"dataframe\">\n",
       "  <thead>\n",
       "    <tr style=\"text-align: right;\">\n",
       "      <th></th>\n",
       "      <th>Total</th>\n",
       "      <th>Percent</th>\n",
       "    </tr>\n",
       "  </thead>\n",
       "  <tbody>\n",
       "    <tr>\n",
       "      <th>departures_performed</th>\n",
       "      <td>0</td>\n",
       "      <td>0.0</td>\n",
       "    </tr>\n",
       "    <tr>\n",
       "      <th>payload</th>\n",
       "      <td>0</td>\n",
       "      <td>0.0</td>\n",
       "    </tr>\n",
       "    <tr>\n",
       "      <th>class</th>\n",
       "      <td>0</td>\n",
       "      <td>0.0</td>\n",
       "    </tr>\n",
       "    <tr>\n",
       "      <th>distance_group</th>\n",
       "      <td>0</td>\n",
       "      <td>0.0</td>\n",
       "    </tr>\n",
       "    <tr>\n",
       "      <th>year</th>\n",
       "      <td>0</td>\n",
       "      <td>0.0</td>\n",
       "    </tr>\n",
       "    <tr>\n",
       "      <th>month</th>\n",
       "      <td>0</td>\n",
       "      <td>0.0</td>\n",
       "    </tr>\n",
       "    <tr>\n",
       "      <th>aircraft_config</th>\n",
       "      <td>0</td>\n",
       "      <td>0.0</td>\n",
       "    </tr>\n",
       "    <tr>\n",
       "      <th>aircraft_type</th>\n",
       "      <td>0</td>\n",
       "      <td>0.0</td>\n",
       "    </tr>\n",
       "    <tr>\n",
       "      <th>aircraft_group</th>\n",
       "      <td>0</td>\n",
       "      <td>0.0</td>\n",
       "    </tr>\n",
       "    <tr>\n",
       "      <th>dest_country</th>\n",
       "      <td>0</td>\n",
       "      <td>0.0</td>\n",
       "    </tr>\n",
       "    <tr>\n",
       "      <th>dest_city_market_id</th>\n",
       "      <td>0</td>\n",
       "      <td>0.0</td>\n",
       "    </tr>\n",
       "    <tr>\n",
       "      <th>dest_airport_id</th>\n",
       "      <td>0</td>\n",
       "      <td>0.0</td>\n",
       "    </tr>\n",
       "    <tr>\n",
       "      <th>origin_country</th>\n",
       "      <td>0</td>\n",
       "      <td>0.0</td>\n",
       "    </tr>\n",
       "    <tr>\n",
       "      <th>origin_city_market_id</th>\n",
       "      <td>0</td>\n",
       "      <td>0.0</td>\n",
       "    </tr>\n",
       "    <tr>\n",
       "      <th>origin_airport_id</th>\n",
       "      <td>0</td>\n",
       "      <td>0.0</td>\n",
       "    </tr>\n",
       "    <tr>\n",
       "      <th>carrier_group_new</th>\n",
       "      <td>0</td>\n",
       "      <td>0.0</td>\n",
       "    </tr>\n",
       "    <tr>\n",
       "      <th>region</th>\n",
       "      <td>0</td>\n",
       "      <td>0.0</td>\n",
       "    </tr>\n",
       "    <tr>\n",
       "      <th>unique_carrier_name</th>\n",
       "      <td>0</td>\n",
       "      <td>0.0</td>\n",
       "    </tr>\n",
       "    <tr>\n",
       "      <th>airline_id</th>\n",
       "      <td>0</td>\n",
       "      <td>0.0</td>\n",
       "    </tr>\n",
       "    <tr>\n",
       "      <th>unique_carrier</th>\n",
       "      <td>0</td>\n",
       "      <td>0.0</td>\n",
       "    </tr>\n",
       "  </tbody>\n",
       "</table>\n",
       "</div>"
      ],
      "text/plain": [
       "                       Total  Percent\n",
       "departures_performed       0      0.0\n",
       "payload                    0      0.0\n",
       "class                      0      0.0\n",
       "distance_group             0      0.0\n",
       "year                       0      0.0\n",
       "month                      0      0.0\n",
       "aircraft_config            0      0.0\n",
       "aircraft_type              0      0.0\n",
       "aircraft_group             0      0.0\n",
       "dest_country               0      0.0\n",
       "dest_city_market_id        0      0.0\n",
       "dest_airport_id            0      0.0\n",
       "origin_country             0      0.0\n",
       "origin_city_market_id      0      0.0\n",
       "origin_airport_id          0      0.0\n",
       "carrier_group_new          0      0.0\n",
       "region                     0      0.0\n",
       "unique_carrier_name        0      0.0\n",
       "airline_id                 0      0.0\n",
       "unique_carrier             0      0.0"
      ]
     },
     "execution_count": 6,
     "metadata": {},
     "output_type": "execute_result"
    }
   ],
   "source": [
    "#check for nulls\n",
    "total_nulls = pass_df.isnull().sum().sort_values(ascending=False)\n",
    "percent = (pass_df.isnull().sum()/pass_df.isnull().count()).sort_values(ascending=False)\n",
    "missing_data = pd.concat([total_nulls, percent], axis=1, keys=['Total', 'Percent'])\n",
    "missing_data.head(20)\n",
    "# no nulls"
   ]
  },
  {
   "cell_type": "code",
   "execution_count": 7,
   "id": "294e4abe-2f7e-4056-89ac-23cdc2fc7058",
   "metadata": {},
   "outputs": [
    {
     "data": {
      "text/html": [
       "<div>\n",
       "<style scoped>\n",
       "    .dataframe tbody tr th:only-of-type {\n",
       "        vertical-align: middle;\n",
       "    }\n",
       "\n",
       "    .dataframe tbody tr th {\n",
       "        vertical-align: top;\n",
       "    }\n",
       "\n",
       "    .dataframe thead th {\n",
       "        text-align: right;\n",
       "    }\n",
       "</style>\n",
       "<table border=\"1\" class=\"dataframe\">\n",
       "  <thead>\n",
       "    <tr style=\"text-align: right;\">\n",
       "      <th></th>\n",
       "      <th>Total</th>\n",
       "      <th>Percent</th>\n",
       "    </tr>\n",
       "  </thead>\n",
       "  <tbody>\n",
       "    <tr>\n",
       "      <th>mail</th>\n",
       "      <td>15400</td>\n",
       "      <td>74.648570</td>\n",
       "    </tr>\n",
       "    <tr>\n",
       "      <th>freight</th>\n",
       "      <td>8758</td>\n",
       "      <td>42.452739</td>\n",
       "    </tr>\n",
       "    <tr>\n",
       "      <th>passengers</th>\n",
       "      <td>505</td>\n",
       "      <td>2.447891</td>\n",
       "    </tr>\n",
       "    <tr>\n",
       "      <th>seats</th>\n",
       "      <td>319</td>\n",
       "      <td>1.546292</td>\n",
       "    </tr>\n",
       "    <tr>\n",
       "      <th>air_time</th>\n",
       "      <td>288</td>\n",
       "      <td>1.396025</td>\n",
       "    </tr>\n",
       "    <tr>\n",
       "      <th>departures_performed</th>\n",
       "      <td>286</td>\n",
       "      <td>1.386331</td>\n",
       "    </tr>\n",
       "    <tr>\n",
       "      <th>payload</th>\n",
       "      <td>286</td>\n",
       "      <td>1.386331</td>\n",
       "    </tr>\n",
       "    <tr>\n",
       "      <th>ramp_to_ramp</th>\n",
       "      <td>283</td>\n",
       "      <td>1.371789</td>\n",
       "    </tr>\n",
       "    <tr>\n",
       "      <th>distance</th>\n",
       "      <td>4</td>\n",
       "      <td>0.019389</td>\n",
       "    </tr>\n",
       "    <tr>\n",
       "      <th>aircraft_config</th>\n",
       "      <td>0</td>\n",
       "      <td>0.000000</td>\n",
       "    </tr>\n",
       "    <tr>\n",
       "      <th>aircraft_group</th>\n",
       "      <td>0</td>\n",
       "      <td>0.000000</td>\n",
       "    </tr>\n",
       "    <tr>\n",
       "      <th>aircraft_type</th>\n",
       "      <td>0</td>\n",
       "      <td>0.000000</td>\n",
       "    </tr>\n",
       "    <tr>\n",
       "      <th>class</th>\n",
       "      <td>0</td>\n",
       "      <td>0.000000</td>\n",
       "    </tr>\n",
       "    <tr>\n",
       "      <th>month</th>\n",
       "      <td>0</td>\n",
       "      <td>0.000000</td>\n",
       "    </tr>\n",
       "    <tr>\n",
       "      <th>year</th>\n",
       "      <td>0</td>\n",
       "      <td>0.000000</td>\n",
       "    </tr>\n",
       "    <tr>\n",
       "      <th>distance_group</th>\n",
       "      <td>0</td>\n",
       "      <td>0.000000</td>\n",
       "    </tr>\n",
       "    <tr>\n",
       "      <th>dest_city_market_id</th>\n",
       "      <td>0</td>\n",
       "      <td>0.000000</td>\n",
       "    </tr>\n",
       "    <tr>\n",
       "      <th>dest_country</th>\n",
       "      <td>0</td>\n",
       "      <td>0.000000</td>\n",
       "    </tr>\n",
       "    <tr>\n",
       "      <th>origin_airport_id</th>\n",
       "      <td>0</td>\n",
       "      <td>0.000000</td>\n",
       "    </tr>\n",
       "    <tr>\n",
       "      <th>dest_airport_id</th>\n",
       "      <td>0</td>\n",
       "      <td>0.000000</td>\n",
       "    </tr>\n",
       "  </tbody>\n",
       "</table>\n",
       "</div>"
      ],
      "text/plain": [
       "                      Total    Percent\n",
       "mail                  15400  74.648570\n",
       "freight                8758  42.452739\n",
       "passengers              505   2.447891\n",
       "seats                   319   1.546292\n",
       "air_time                288   1.396025\n",
       "departures_performed    286   1.386331\n",
       "payload                 286   1.386331\n",
       "ramp_to_ramp            283   1.371789\n",
       "distance                  4   0.019389\n",
       "aircraft_config           0   0.000000\n",
       "aircraft_group            0   0.000000\n",
       "aircraft_type             0   0.000000\n",
       "class                     0   0.000000\n",
       "month                     0   0.000000\n",
       "year                      0   0.000000\n",
       "distance_group            0   0.000000\n",
       "dest_city_market_id       0   0.000000\n",
       "dest_country              0   0.000000\n",
       "origin_airport_id         0   0.000000\n",
       "dest_airport_id           0   0.000000"
      ]
     },
     "execution_count": 7,
     "metadata": {},
     "output_type": "execute_result"
    }
   ],
   "source": [
    "total_zeros = (pass_df == 0).sum().sort_values(ascending=False)\n",
    "percent = (pass_df == 0).sum()*100/(pass_df == 0).count().sort_values(ascending=False)\n",
    "zero_count = pd.concat([total_zeros, percent], axis=1, keys=['Total', 'Percent'])\n",
    "zero_count.head(20)"
   ]
  },
  {
   "cell_type": "code",
   "execution_count": 8,
   "id": "154babb8-a362-48a7-9be9-05c2c7009c54",
   "metadata": {},
   "outputs": [],
   "source": [
    "# drop columns\n",
    "pass_df = pass_df.drop(['distance', 'air_time', 'ramp_to_ramp'], axis =1)"
   ]
  },
  {
   "cell_type": "code",
   "execution_count": 9,
   "id": "dd786fae-085f-42c9-a8da-4d0a94f84ecd",
   "metadata": {},
   "outputs": [],
   "source": [
    "numerics = ['int16', 'int32', 'int64', 'float16', 'float32', 'float64']\n",
    "numeric_df = pass_df.select_dtypes(include=numerics)"
   ]
  },
  {
   "cell_type": "code",
   "execution_count": 10,
   "id": "2ec57503-98f6-40f0-b1d1-65527483b47e",
   "metadata": {},
   "outputs": [
    {
     "name": "stderr",
     "output_type": "stream",
     "text": [
      "/Users/simonj/opt/anaconda3/lib/python3.9/site-packages/seaborn/distributions.py:2619: FutureWarning: `distplot` is a deprecated function and will be removed in a future version. Please adapt your code to use either `displot` (a figure-level function with similar flexibility) or `histplot` (an axes-level function for histograms).\n",
      "  warnings.warn(msg, FutureWarning)\n"
     ]
    },
    {
     "data": {
      "text/plain": [
       "<AxesSubplot:xlabel='departures_performed', ylabel='Density'>"
      ]
     },
     "execution_count": 10,
     "metadata": {},
     "output_type": "execute_result"
    },
    {
     "data": {
      "image/png": "[encoded data removed]",
      "text/plain": [
       "<Figure size 432x288 with 1 Axes>"
      ]
     },
     "metadata": {
      "needs_background": "light"
     },
     "output_type": "display_data"
    }
   ],
   "source": [
    "# heavily scewed to the right\n",
    "sns.distplot(pass_df[\"departures_performed\"])"
   ]
  },
  {
   "cell_type": "code",
   "execution_count": 11,
   "id": "6a1cf90b-c9b5-4df5-8e9d-76a15f6077f1",
   "metadata": {},
   "outputs": [
    {
     "name": "stderr",
     "output_type": "stream",
     "text": [
      "/Users/simonj/opt/anaconda3/lib/python3.9/site-packages/seaborn/distributions.py:2619: FutureWarning: `distplot` is a deprecated function and will be removed in a future version. Please adapt your code to use either `displot` (a figure-level function with similar flexibility) or `histplot` (an axes-level function for histograms).\n",
      "  warnings.warn(msg, FutureWarning)\n"
     ]
    },
    {
     "data": {
      "text/plain": [
       "<AxesSubplot:xlabel='payload', ylabel='Density'>"
      ]
     },
     "execution_count": 11,
     "metadata": {},
     "output_type": "execute_result"
    },
    {
     "data": {
      "image/png": "[encoded data removed]",
      "text/plain": [
       "<Figure size 432x288 with 1 Axes>"
      ]
     },
     "metadata": {
      "needs_background": "light"
     },
     "output_type": "display_data"
    }
   ],
   "source": [
    "sns.distplot(pass_df[\"payload\"])"
   ]
  },
  {
   "cell_type": "code",
   "execution_count": 12,
   "id": "cd075043-d8fe-4b47-99fc-a0e29feb19bf",
   "metadata": {},
   "outputs": [
    {
     "data": {
      "text/plain": [
       "<AxesSubplot:xlabel='payload', ylabel='Count'>"
      ]
     },
     "execution_count": 12,
     "metadata": {},
     "output_type": "execute_result"
    },
    {
     "data": {
      "image/png": "[encoded data removed]",
      "text/plain": [
       "<Figure size 432x288 with 1 Axes>"
      ]
     },
     "metadata": {
      "needs_background": "light"
     },
     "output_type": "display_data"
    }
   ],
   "source": [
    "sns.histplot(pass_df[\"payload\"])"
   ]
  },
  {
   "cell_type": "code",
   "execution_count": 13,
   "id": "afd3d1f7-0091-4fb5-ae57-931b10101dcc",
   "metadata": {},
   "outputs": [
    {
     "name": "stderr",
     "output_type": "stream",
     "text": [
      "/Users/simonj/opt/anaconda3/lib/python3.9/site-packages/seaborn/distributions.py:2619: FutureWarning: `distplot` is a deprecated function and will be removed in a future version. Please adapt your code to use either `displot` (a figure-level function with similar flexibility) or `histplot` (an axes-level function for histograms).\n",
      "  warnings.warn(msg, FutureWarning)\n"
     ]
    },
    {
     "data": {
      "text/plain": [
       "<AxesSubplot:xlabel='seats', ylabel='Density'>"
      ]
     },
     "execution_count": 13,
     "metadata": {},
     "output_type": "execute_result"
    },
    {
     "data": {
      "image/png": "[encoded data removed]",
      "text/plain": [
       "<Figure size 432x288 with 1 Axes>"
      ]
     },
     "metadata": {
      "needs_background": "light"
     },
     "output_type": "display_data"
    }
   ],
   "source": [
    "sns.distplot(pass_df[\"seats\"])"
   ]
  },
  {
   "cell_type": "code",
   "execution_count": 14,
   "id": "e5a09abf-cc74-4a01-946f-de73e0291ffa",
   "metadata": {},
   "outputs": [],
   "source": [
    "def distributions(df):\n",
    "    for i in df:\n",
    "        sns.distplot(df[i])\n",
    "    "
   ]
  },
  {
   "cell_type": "code",
   "execution_count": 15,
   "id": "ea2cdb19-b999-4eba-adf1-41a8b9b7cb45",
   "metadata": {},
   "outputs": [
    {
     "data": {
      "text/plain": [
       "<AxesSubplot:xlabel='year', ylabel='Count'>"
      ]
     },
     "execution_count": 15,
     "metadata": {},
     "output_type": "execute_result"
    },
    {
     "data": {
      "image/png": "[encoded data removed]",
      "text/plain": [
       "<Figure size 432x288 with 1 Axes>"
      ]
     },
     "metadata": {
      "needs_background": "light"
     },
     "output_type": "display_data"
    }
   ],
   "source": [
    "# year, distance group, month, aircraft config, aircraft_type. \n",
    "data = pass_df\n",
    "sns.histplot(data=data, x='year')"
   ]
  },
  {
   "cell_type": "code",
   "execution_count": 16,
   "id": "5d703412-b16e-408f-8b51-64a95401ee68",
   "metadata": {},
   "outputs": [
    {
     "data": {
      "text/plain": [
       "<AxesSubplot:xlabel='unique_carrier', ylabel='Count'>"
      ]
     },
     "execution_count": 16,
     "metadata": {},
     "output_type": "execute_result"
    },
    {
     "data": {
      "image/png": "[encoded data removed]",
      "text/plain": [
       "<Figure size 432x288 with 1 Axes>"
      ]
     },
     "metadata": {
      "needs_background": "light"
     },
     "output_type": "display_data"
    }
   ],
   "source": [
    "# year, distance group, month, aircraft config, aircraft_type. \n",
    "data = pass_df\n",
    "sns.histplot(data=data, x='unique_carrier')"
   ]
  },
  {
   "cell_type": "code",
   "execution_count": 17,
   "id": "d5520995-f2b7-41bd-9d4d-a9efaef7209e",
   "metadata": {},
   "outputs": [
    {
     "data": {
      "text/plain": [
       "<AxesSubplot:xlabel='month', ylabel='Count'>"
      ]
     },
     "execution_count": 17,
     "metadata": {},
     "output_type": "execute_result"
    },
    {
     "data": {
      "image/png": "[encoded data removed]",
      "text/plain": [
       "<Figure size 432x288 with 1 Axes>"
      ]
     },
     "metadata": {
      "needs_background": "light"
     },
     "output_type": "display_data"
    }
   ],
   "source": [
    "# year, distance group, month, aircraft config, aircraft_type. \n",
    "data = pass_df\n",
    "sns.histplot(data=data, x='month')"
   ]
  },
  {
   "cell_type": "code",
   "execution_count": 18,
   "id": "527700f3-6163-42b5-843c-73c2453c8124",
   "metadata": {},
   "outputs": [
    {
     "data": {
      "text/plain": [
       "<AxesSubplot:xlabel='distance_group', ylabel='Count'>"
      ]
     },
     "execution_count": 18,
     "metadata": {},
     "output_type": "execute_result"
    },
    {
     "data": {
      "image/png": "[encoded data removed]",
      "text/plain": [
       "<Figure size 432x288 with 1 Axes>"
      ]
     },
     "metadata": {
      "needs_background": "light"
     },
     "output_type": "display_data"
    }
   ],
   "source": [
    "# year, distance group, month, aircraft config, aircraft_type. \n",
    "data = pass_df\n",
    "sns.histplot(data=data, x='distance_group')"
   ]
  },
  {
   "cell_type": "code",
   "execution_count": 19,
   "id": "d29e1060-ec81-4ff6-9223-6958e4c05343",
   "metadata": {},
   "outputs": [
    {
     "data": {
      "text/plain": [
       "<AxesSubplot:xlabel='aircraft_config', ylabel='Count'>"
      ]
     },
     "execution_count": 19,
     "metadata": {},
     "output_type": "execute_result"
    },
    {
     "data": {
      "image/png": "[encoded data removed]",
      "text/plain": [
       "<Figure size 432x288 with 1 Axes>"
      ]
     },
     "metadata": {
      "needs_background": "light"
     },
     "output_type": "display_data"
    }
   ],
   "source": [
    "# year, distance group, month, aircraft config, aircraft_type. \n",
    "data = pass_df\n",
    "sns.histplot(data=data, x='aircraft_config')"
   ]
  },
  {
   "cell_type": "code",
   "execution_count": 20,
   "id": "7e8aafe8-aab5-4a44-8639-74639a4de763",
   "metadata": {},
   "outputs": [
    {
     "data": {
      "text/plain": [
       "<AxesSubplot:xlabel='aircraft_type', ylabel='Count'>"
      ]
     },
     "execution_count": 20,
     "metadata": {},
     "output_type": "execute_result"
    },
    {
     "data": {
      "image/png": "[encoded data removed]",
      "text/plain": [
       "<Figure size 432x288 with 1 Axes>"
      ]
     },
     "metadata": {
      "needs_background": "light"
     },
     "output_type": "display_data"
    }
   ],
   "source": [
    "# year, distance group, month, aircraft config, aircraft_type. \n",
    "data = pass_df\n",
    "sns.histplot(data=data, x='aircraft_type')"
   ]
  },
  {
   "cell_type": "code",
   "execution_count": 21,
   "id": "40c470fe-57c5-4731-a132-773dd8ca880b",
   "metadata": {},
   "outputs": [],
   "source": [
    "#import plotly.express as px\n",
    "#df = flight_df_std_trans.corr()\n",
    "#fig = px.imshow(df, text_auto=True, aspect=\"auto\")\n",
    "#fig.show()"
   ]
  },
  {
   "cell_type": "code",
   "execution_count": 22,
   "id": "c58eb404-5720-4224-9a98-09b7eafb9a14",
   "metadata": {},
   "outputs": [
    {
     "data": {
      "text/plain": [
       "<AxesSubplot:xlabel='aircraft_group', ylabel='Count'>"
      ]
     },
     "execution_count": 22,
     "metadata": {},
     "output_type": "execute_result"
    },
    {
     "data": {
      "image/png": "[encoded data removed]",
      "text/plain": [
       "<Figure size 432x288 with 1 Axes>"
      ]
     },
     "metadata": {
      "needs_background": "light"
     },
     "output_type": "display_data"
    }
   ],
   "source": [
    "# year, distance group, month, aircraft config, aircraft_type. \n",
    "data = pass_df\n",
    "sns.histplot(data=data, x='aircraft_group')"
   ]
  },
  {
   "cell_type": "code",
   "execution_count": 23,
   "id": "5a4bed67-98f9-4dc3-9061-f895965ec15a",
   "metadata": {},
   "outputs": [
    {
     "data": {
      "text/plain": [
       "<AxesSubplot:xlabel='class', ylabel='Count'>"
      ]
     },
     "execution_count": 23,
     "metadata": {},
     "output_type": "execute_result"
    },
    {
     "data": {
      "image/png": "[encoded data removed]",
      "text/plain": [
       "<Figure size 432x288 with 1 Axes>"
      ]
     },
     "metadata": {
      "needs_background": "light"
     },
     "output_type": "display_data"
    }
   ],
   "source": [
    "# year, distance group, month, aircraft config, aircraft_type. \n",
    "data = pass_df\n",
    "sns.histplot(data=data, x='class')"
   ]
  },
  {
   "cell_type": "code",
   "execution_count": 24,
   "id": "ec8ac128-1db5-46f7-89cd-590fb250e5a3",
   "metadata": {},
   "outputs": [
    {
     "data": {
      "text/plain": [
       "<AxesSubplot:xlabel='aircraft_type', ylabel='seats_per_flight'>"
      ]
     },
     "execution_count": 24,
     "metadata": {},
     "output_type": "execute_result"
    },
    {
     "data": {
      "image/png": "[encoded data removed]",
      "text/plain": [
       "<Figure size 648x432 with 1 Axes>"
      ]
     },
     "metadata": {
      "needs_background": "light"
     },
     "output_type": "display_data"
    }
   ],
   "source": [
    "pass_df['seats_per_flight'] = pass_df['seats'] / pass_df['departures_performed']\n",
    "# aircraft type vs seats\n",
    "f, ax = plt.subplots(figsize=(9, 6))\n",
    "# seaborn's regression plot\n",
    "sns.regplot(x=pass_df['aircraft_type'], y=pass_df[\"seats_per_flight\"], data=pass_df, order=1)"
   ]
  },
  {
   "cell_type": "code",
   "execution_count": 25,
   "id": "570d5a0f-aa79-4b12-b0dc-d4b79c4e7191",
   "metadata": {},
   "outputs": [
    {
     "data": {
      "text/plain": [
       "<AxesSubplot:xlabel='seats_per_flight', ylabel='Count'>"
      ]
     },
     "execution_count": 25,
     "metadata": {},
     "output_type": "execute_result"
    },
    {
     "data": {
      "image/png": "[encoded data removed]",
      "text/plain": [
       "<Figure size 432x288 with 1 Axes>"
      ]
     },
     "metadata": {
      "needs_background": "light"
     },
     "output_type": "display_data"
    }
   ],
   "source": [
    "sns.histplot(pass_df[\"seats_per_flight\"])"
   ]
  },
  {
   "cell_type": "code",
   "execution_count": 26,
   "id": "4765eb2f-66e0-4718-9322-d51f0743ba0c",
   "metadata": {},
   "outputs": [
    {
     "data": {
      "text/plain": [
       "<AxesSubplot:xlabel='aircraft_type', ylabel='payload_per_flight'>"
      ]
     },
     "execution_count": 26,
     "metadata": {},
     "output_type": "execute_result"
    },
    {
     "data": {
      "image/png": "[encoded data removed]",
      "text/plain": [
       "<Figure size 648x432 with 1 Axes>"
      ]
     },
     "metadata": {
      "needs_background": "light"
     },
     "output_type": "display_data"
    }
   ],
   "source": [
    "pass_df['payload_per_flight'] = pass_df['payload'] / pass_df['departures_performed']\n",
    "# aircraft type vs seats\n",
    "f, ax = plt.subplots(figsize=(9, 6))\n",
    "# seaborn's regression plot\n",
    "sns.regplot(x=pass_df['aircraft_type'], y=pass_df[\"payload_per_flight\"], data=pass_df, order=1)"
   ]
  },
  {
   "cell_type": "markdown",
   "id": "debf25f6-52f5-439e-915c-a70bba7cdb23",
   "metadata": {},
   "source": [
    "# Feature Genertion"
   ]
  },
  {
   "cell_type": "code",
   "execution_count": 27,
   "id": "6d68994a-f9f8-42a0-b268-6edce507228b",
   "metadata": {},
   "outputs": [],
   "source": [
    "# Feature Plane Capacity ratio =\n",
    "pass_df['capacity_ratio'] = pass_df['passengers'] / pass_df['seats']\n",
    "# mail ratio = \n",
    "pass_df['mail_ratio'] = pass_df['mail'] / pass_df['payload']\n",
    "# freight ratio =\n",
    "pass_df['freight_ratio'] = pass_df['freight'] / pass_df['payload']"
   ]
  },
  {
   "cell_type": "code",
   "execution_count": 28,
   "id": "5ab7998d-05ea-49e7-abea-da61b17c1d5c",
   "metadata": {},
   "outputs": [],
   "source": [
    "pass_df['mail_per_flight'] = pass_df['mail'] / pass_df['departures_performed']\n",
    "pass_df['freight_per_flight'] = pass_df['freight'] / pass_df['departures_performed']\n",
    "pass_df['pass_per_flight'] = pass_df['passengers'] / pass_df['departures_performed']"
   ]
  },
  {
   "cell_type": "code",
   "execution_count": 29,
   "id": "042e0179-71ba-4b08-939a-e7bc46cadb55",
   "metadata": {},
   "outputs": [
    {
     "name": "stderr",
     "output_type": "stream",
     "text": [
      "/var/folders/w6/sy887bgd32s1j5gq5fj42l000000gn/T/ipykernel_48093/518243811.py:1: FutureWarning: Indexing with multiple keys (implicitly converted to a tuple of keys) will be deprecated, use a list instead.\n",
      "  avg_ratio_per_route = pass_df.groupby(['route_id'])['mail_ratio', 'capacity_ratio', 'freight_ratio'].mean()\n",
      "/var/folders/w6/sy887bgd32s1j5gq5fj42l000000gn/T/ipykernel_48093/518243811.py:2: FutureWarning: Indexing with multiple keys (implicitly converted to a tuple of keys) will be deprecated, use a list instead.\n",
      "  avg_per_route = pass_df.groupby(['route_id'])['mail_per_flight', 'freight_per_flight', 'pass_per_flight'].mean()\n"
     ]
    }
   ],
   "source": [
    "avg_ratio_per_route = pass_df.groupby(['route_id'])['mail_ratio', 'capacity_ratio', 'freight_ratio'].mean()\n",
    "avg_per_route = pass_df.groupby(['route_id'])['mail_per_flight', 'freight_per_flight', 'pass_per_flight'].mean()"
   ]
  },
  {
   "cell_type": "code",
   "execution_count": 30,
   "id": "2ad2ff2f-c19e-4e92-8060-67af71681d40",
   "metadata": {},
   "outputs": [],
   "source": [
    "route_features = pd.merge(avg_ratio_per_route, avg_per_route, on=\"route_id\")"
   ]
  },
  {
   "cell_type": "markdown",
   "id": "6a73a81d-bf19-4397-b968-c946e5526823",
   "metadata": {},
   "source": [
    "Export to csv to send into model sheet"
   ]
  },
  {
   "cell_type": "code",
   "execution_count": 31,
   "id": "b995e251-a6fe-4a23-a2ad-8d75f1f8cf36",
   "metadata": {},
   "outputs": [],
   "source": [
    "from pathlib import Path \n",
    "filepath = Path('./pass_route_features.csv')  \n",
    "route_features.to_csv(filepath)"
   ]
  },
  {
   "cell_type": "markdown",
   "id": "9d579eb4-b006-4e98-8ad3-0e1d34db66b6",
   "metadata": {},
   "source": [
    "The following features do not map correctly so will be dismissed for the time being"
   ]
  },
  {
   "cell_type": "code",
   "execution_count": 32,
   "id": "ee262b81-1945-4630-bcfd-6ee405685633",
   "metadata": {},
   "outputs": [
    {
     "name": "stderr",
     "output_type": "stream",
     "text": [
      "/var/folders/w6/sy887bgd32s1j5gq5fj42l000000gn/T/ipykernel_48093/3179343982.py:1: FutureWarning: Indexing with multiple keys (implicitly converted to a tuple of keys) will be deprecated, use a list instead.\n",
      "  carrier_avg_ratio_per_route = pass_df.groupby(['route_id', 'unique_carrier'])['mail_ratio', 'capacity_ratio', 'freight_ratio'].mean()\n",
      "/var/folders/w6/sy887bgd32s1j5gq5fj42l000000gn/T/ipykernel_48093/3179343982.py:2: FutureWarning: Indexing with multiple keys (implicitly converted to a tuple of keys) will be deprecated, use a list instead.\n",
      "  carrier_avg_per_route = pass_df.groupby(['route_id', 'unique_carrier'])['mail_per_flight', 'freight_per_flight', 'pass_per_flight'].mean()\n"
     ]
    }
   ],
   "source": [
    "carrier_avg_ratio_per_route = pass_df.groupby(['route_id', 'unique_carrier'])['mail_ratio', 'capacity_ratio', 'freight_ratio'].mean()\n",
    "carrier_avg_per_route = pass_df.groupby(['route_id', 'unique_carrier'])['mail_per_flight', 'freight_per_flight', 'pass_per_flight'].mean()"
   ]
  },
  {
   "cell_type": "code",
   "execution_count": 33,
   "id": "d9b250da-28d4-4b57-b910-163a551cf85e",
   "metadata": {},
   "outputs": [],
   "source": [
    "### come back to the items below. There is something weird going on with the indexes"
   ]
  },
  {
   "cell_type": "code",
   "execution_count": 34,
   "id": "296dfb46-8344-424f-9b5f-36c21c85fbca",
   "metadata": {},
   "outputs": [],
   "source": [
    "#carrier_route_features = pd.merge(carrier_avg_ratio_per_route, carrier_avg_per_route, on=\"route\")"
   ]
  }
 ],
 "metadata": {
  "kernelspec": {
   "display_name": "Python 3 (ipykernel)",
   "language": "python",
   "name": "python3"
  },
  "language_info": {
   "codemirror_mode": {
    "name": "ipython",
    "version": 3
   },
   "file_extension": ".py",
   "mimetype": "text/x-python",
   "name": "python",
   "nbconvert_exporter": "python",
   "pygments_lexer": "ipython3",
   "version": "3.9.12"
  }
 },
 "nbformat": 4,
 "nbformat_minor": 5
}
